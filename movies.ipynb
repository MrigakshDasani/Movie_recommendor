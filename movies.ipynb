{
 "cells": [
  {
   "cell_type": "code",
   "execution_count": 75,
   "id": "6b84bf95",
   "metadata": {},
   "outputs": [],
   "source": [
    "import pandas as pd\n",
    "import numpy as np\n",
    "import ast\n",
    "import nltk\n",
    "from nltk.stem.porter import PorterStemmer\n",
    "from sklearn.feature_extraction.text import TfidfVectorizer\n",
    "from sklearn.metrics.pairwise import cosine_similarity\n",
    "import difflib\n"
   ]
  },
  {
   "cell_type": "code",
   "execution_count": 76,
   "id": "ef9d65fa",
   "metadata": {},
   "outputs": [],
   "source": [
    "movies = pd.read_csv(\"tmdb_5000_movies.csv\")\n",
    "credits = pd.read_csv(\"tmdb_5000_credits.csv\")\n",
    "\n",
    "movies = movies.merge(credits, on=\"title\")\n"
   ]
  },
  {
   "cell_type": "code",
   "execution_count": 77,
   "id": "88aad13b",
   "metadata": {},
   "outputs": [],
   "source": [
    "movies = movies[['movie_id', 'title', 'overview', 'genres', 'keywords', 'cast', 'crew']]\n",
    "movies.dropna(inplace=True)\n"
   ]
  },
  {
   "cell_type": "code",
   "execution_count": 78,
   "id": "e9b2a415",
   "metadata": {},
   "outputs": [],
   "source": [
    "def convert(obj):\n",
    "    return [i['name'] for i in ast.literal_eval(obj)]\n",
    "\n",
    "def convert_cast(obj):\n",
    "    return [i['name'] for i in ast.literal_eval(obj)[:3]]\n",
    "\n",
    "def fetch_director(obj):\n",
    "    for i in ast.literal_eval(obj):\n",
    "        if i['job'] == 'Director':\n",
    "            return [i['name']]\n",
    "    return []\n"
   ]
  },
  {
   "cell_type": "code",
   "execution_count": 79,
   "id": "e7a73735",
   "metadata": {},
   "outputs": [],
   "source": [
    "movies['genres'] = movies['genres'].apply(convert)\n",
    "movies['keywords'] = movies['keywords'].apply(convert)\n",
    "movies['cast'] = movies['cast'].apply(convert_cast)\n",
    "movies['crew'] = movies['crew'].apply(fetch_director)\n",
    "movies['overview'] = movies['overview'].apply(lambda x: x.split())\n",
    "\n",
    "for feature in ['genres', 'keywords', 'cast', 'crew']:\n",
    "    movies[feature] = movies[feature].apply(lambda x: [i.replace(\" \", \"\") for i in x])\n"
   ]
  },
  {
   "cell_type": "code",
   "execution_count": 80,
   "id": "f1031d1c",
   "metadata": {},
   "outputs": [
    {
     "name": "stderr",
     "output_type": "stream",
     "text": [
      "C:\\Users\\Admin\\AppData\\Local\\Temp\\ipykernel_14792\\28955866.py:3: SettingWithCopyWarning: \n",
      "A value is trying to be set on a copy of a slice from a DataFrame.\n",
      "Try using .loc[row_indexer,col_indexer] = value instead\n",
      "\n",
      "See the caveats in the documentation: https://pandas.pydata.org/pandas-docs/stable/user_guide/indexing.html#returning-a-view-versus-a-copy\n",
      "  new_df['tags'] = new_df['tags'].apply(lambda x: \" \".join(x)).str.lower()\n"
     ]
    }
   ],
   "source": [
    "movies['tags'] = movies['overview'] + movies['genres'] + movies['keywords'] + movies['cast'] + movies['crew']\n",
    "new_df = movies[['movie_id', 'title', 'tags', 'genres']]\n",
    "new_df['tags'] = new_df['tags'].apply(lambda x: \" \".join(x)).str.lower()\n"
   ]
  },
  {
   "cell_type": "code",
   "execution_count": 81,
   "id": "22d4d65c",
   "metadata": {},
   "outputs": [
    {
     "name": "stderr",
     "output_type": "stream",
     "text": [
      "C:\\Users\\Admin\\AppData\\Local\\Temp\\ipykernel_14792\\935233812.py:5: SettingWithCopyWarning: \n",
      "A value is trying to be set on a copy of a slice from a DataFrame.\n",
      "Try using .loc[row_indexer,col_indexer] = value instead\n",
      "\n",
      "See the caveats in the documentation: https://pandas.pydata.org/pandas-docs/stable/user_guide/indexing.html#returning-a-view-versus-a-copy\n",
      "  new_df['tags'] = new_df['tags'].apply(stem)\n"
     ]
    }
   ],
   "source": [
    "ps = PorterStemmer()\n",
    "def stem(text):\n",
    "    return \" \".join([ps.stem(word) for word in text.split()])\n",
    "\n",
    "new_df['tags'] = new_df['tags'].apply(stem)\n"
   ]
  },
  {
   "cell_type": "code",
   "execution_count": 82,
   "id": "73c4ccd9",
   "metadata": {},
   "outputs": [],
   "source": [
    "tfidf = TfidfVectorizer(max_features=5000, stop_words='english')\n",
    "vectors = tfidf.fit_transform(new_df['tags']).toarray()\n",
    "similarity = cosine_similarity(vectors)\n"
   ]
  },
  {
   "cell_type": "code",
   "execution_count": null,
   "id": "44468f32",
   "metadata": {},
   "outputs": [],
   "source": [
    "def recommend(movie):\n",
    "    movie = movie.lower()\n",
    "    all_titles = new_df['title'].str.lower().tolist()\n",
    "    \n",
    "    match = difflib.get_close_matches(movie, all_titles, n=1, cutoff=0.6)\n",
    "    if not match:\n",
    "        print(\"Movie not found.\")\n",
    "        return []\n",
    "\n",
    "    movie_index = new_df[new_df['title'].str.lower() == match[0]].index[0]\n",
    "    movie_genres = set(new_df.loc[movie_index, 'genres'])\n",
    "\n",
    "    distances = list(enumerate(similarity[movie_index]))\n",
    "    sorted_movies = sorted(distances, key=lambda x: x[1], reverse=True)[1:25]\n",
    "\n",
    "    recommended = []\n",
    "    for i in sorted_movies:\n",
    "        idx = i[0]\n",
    "        other_genres = set(new_df.loc[idx, 'genres'])\n",
    "        if movie_genres & other_genres:\n",
    "            recommended.append(new_df.iloc[idx].title)\n",
    "        if len(recommended) == 5:\n",
    "            break\n",
    "\n",
    "    print(f\"\\n🎬 Top 5 recommendations for '{new_df.iloc[movie_index].title}':\\n\")\n",
    "    for rec in recommended:\n",
    "        print(\"👉\", rec)\n",
    "\n",
    "    return recommended\n"
   ]
  },
  {
   "cell_type": "code",
   "execution_count": 84,
   "id": "8c661d71",
   "metadata": {},
   "outputs": [
    {
     "name": "stdout",
     "output_type": "stream",
     "text": [
      "\n",
      "🎬 Top 5 recommendations for 'The Conjuring':\n",
      "\n",
      "👉 The Conjuring 2\n",
      "👉 Ouija\n",
      "👉 The Amityville Horror\n",
      "👉 Grave Encounters\n",
      "👉 The Vatican Exorcisms\n"
     ]
    },
    {
     "data": {
      "text/plain": [
       "['The Conjuring 2',\n",
       " 'Ouija',\n",
       " 'The Amityville Horror',\n",
       " 'Grave Encounters',\n",
       " 'The Vatican Exorcisms']"
      ]
     },
     "execution_count": 84,
     "metadata": {},
     "output_type": "execute_result"
    }
   ],
   "source": [
    "recommend(\"The Conjuring\")"
   ]
  },
  {
   "cell_type": "code",
   "execution_count": 85,
   "id": "c4937f7d",
   "metadata": {},
   "outputs": [
    {
     "name": "stdout",
     "output_type": "stream",
     "text": [
      "\n",
      "🎬 Top 5 recommendations for 'Pirates of the Caribbean: The Curse of the Black Pearl':\n",
      "\n",
      "👉 Pirates of the Caribbean: Dead Man's Chest\n",
      "👉 VeggieTales: The Pirates Who Don't Do Anything\n",
      "👉 The Pirates! In an Adventure with Scientists!\n",
      "👉 Pirates of the Caribbean: At World's End\n",
      "👉 Pirates of the Caribbean: On Stranger Tides\n"
     ]
    },
    {
     "data": {
      "text/plain": [
       "[\"Pirates of the Caribbean: Dead Man's Chest\",\n",
       " \"VeggieTales: The Pirates Who Don't Do Anything\",\n",
       " 'The Pirates! In an Adventure with Scientists!',\n",
       " \"Pirates of the Caribbean: At World's End\",\n",
       " 'Pirates of the Caribbean: On Stranger Tides']"
      ]
     },
     "execution_count": 85,
     "metadata": {},
     "output_type": "execute_result"
    }
   ],
   "source": [
    "recommend(\"Pirates of the Caribbean: The Curse of the Black Pearl\")"
   ]
  },
  {
   "cell_type": "code",
   "execution_count": 86,
   "id": "eb1b8d50",
   "metadata": {},
   "outputs": [
    {
     "name": "stdout",
     "output_type": "stream",
     "text": [
      "\n",
      "🎬 Top 5 recommendations for 'Mad Max: Fury Road':\n",
      "\n",
      "👉 The Book of Eli\n",
      "👉 9\n",
      "👉 Terminator Salvation\n",
      "👉 Zombie Hunter\n",
      "👉 Resident Evil: Extinction\n"
     ]
    },
    {
     "data": {
      "text/plain": [
       "['The Book of Eli',\n",
       " '9',\n",
       " 'Terminator Salvation',\n",
       " 'Zombie Hunter',\n",
       " 'Resident Evil: Extinction']"
      ]
     },
     "execution_count": 86,
     "metadata": {},
     "output_type": "execute_result"
    }
   ],
   "source": [
    "recommend(\"Mad Max: Fury Road\")"
   ]
  },
  {
   "cell_type": "code",
   "execution_count": 87,
   "id": "50633f9d",
   "metadata": {},
   "outputs": [
    {
     "name": "stdout",
     "output_type": "stream",
     "text": [
      "\n",
      "🎬 Top 5 recommendations for 'Mean Girls':\n",
      "\n",
      "👉 Sleepover\n",
      "👉 Freaky Friday\n",
      "👉 Napoleon Dynamite\n",
      "👉 Bandslam\n",
      "👉 Confessions of a Teenage Drama Queen\n"
     ]
    },
    {
     "data": {
      "text/plain": [
       "['Sleepover',\n",
       " 'Freaky Friday',\n",
       " 'Napoleon Dynamite',\n",
       " 'Bandslam',\n",
       " 'Confessions of a Teenage Drama Queen']"
      ]
     },
     "execution_count": 87,
     "metadata": {},
     "output_type": "execute_result"
    }
   ],
   "source": [
    "recommend(\"Mean Girls\")"
   ]
  },
  {
   "cell_type": "code",
   "execution_count": 88,
   "id": "ff7b0d05",
   "metadata": {},
   "outputs": [
    {
     "name": "stdout",
     "output_type": "stream",
     "text": [
      "\n",
      "🎬 Top 5 recommendations for 'Inception':\n",
      "\n",
      "👉 12 Rounds\n",
      "👉 Premium Rush\n",
      "👉 Stolen\n",
      "👉 Looper\n",
      "👉 The Walk\n"
     ]
    },
    {
     "data": {
      "text/plain": [
       "['12 Rounds', 'Premium Rush', 'Stolen', 'Looper', 'The Walk']"
      ]
     },
     "execution_count": 88,
     "metadata": {},
     "output_type": "execute_result"
    }
   ],
   "source": [
    "recommend(\"Inception\")"
   ]
  },
  {
   "cell_type": "code",
   "execution_count": 89,
   "id": "7b35b74c",
   "metadata": {},
   "outputs": [
    {
     "name": "stdout",
     "output_type": "stream",
     "text": [
      "\n",
      "🎬 Top 5 recommendations for 'The Avengers':\n",
      "\n",
      "👉 Avengers: Age of Ultron\n",
      "👉 Captain America: Civil War\n",
      "👉 Iron Man 3\n",
      "👉 Captain America: The First Avenger\n",
      "👉 Captain America: The Winter Soldier\n"
     ]
    },
    {
     "data": {
      "text/plain": [
       "['Avengers: Age of Ultron',\n",
       " 'Captain America: Civil War',\n",
       " 'Iron Man 3',\n",
       " 'Captain America: The First Avenger',\n",
       " 'Captain America: The Winter Soldier']"
      ]
     },
     "execution_count": 89,
     "metadata": {},
     "output_type": "execute_result"
    }
   ],
   "source": [
    "recommend(\"The Avengers\")"
   ]
  },
  {
   "cell_type": "code",
   "execution_count": 90,
   "metadata": {},
   "outputs": [
    {
     "name": "stdout",
     "output_type": "stream",
     "text": [
      "\n",
      "🎬 Top 5 recommendations for 'Titanic':\n",
      "\n",
      "👉 Ghost Ship\n",
      "👉 Poseidon\n",
      "👉 The Rose\n",
      "👉 Dear Frankie\n",
      "👉 The Bounty\n"
     ]
    },
    {
     "data": {
      "text/plain": [
       "['Ghost Ship', 'Poseidon', 'The Rose', 'Dear Frankie', 'The Bounty']"
      ]
     },
     "execution_count": 90,
     "metadata": {},
     "output_type": "execute_result"
    }
   ],
   "source": [
    "recommend(\"Titanic\")"
   ]
  },
  {
   "cell_type": "code",
   "execution_count": 91,
   "metadata": {},
   "outputs": [
    {
     "name": "stdout",
     "output_type": "stream",
     "text": [
      "\n",
      "🎬 Top 5 recommendations for 'Toy Story':\n",
      "\n",
      "👉 Toy Story 3\n",
      "👉 Toy Story 2\n",
      "👉 Small Soldiers\n",
      "👉 The 41–Year–Old Virgin Who Knocked Up Sarah Marshall and Felt Superbad About It\n",
      "👉 Child's Play\n"
     ]
    },
    {
     "data": {
      "text/plain": [
       "['Toy Story 3',\n",
       " 'Toy Story 2',\n",
       " 'Small Soldiers',\n",
       " 'The 41–Year–Old Virgin Who Knocked Up Sarah Marshall and Felt Superbad About It',\n",
       " \"Child's Play\"]"
      ]
     },
     "execution_count": 91,
     "metadata": {},
     "output_type": "execute_result"
    }
   ],
   "source": [
    "recommend(\"Toy Story\")\n"
   ]
  }
 ],
 "metadata": {
  "kernelspec": {
   "display_name": "venv",
   "language": "python",
   "name": "python3"
  },
  "language_info": {
   "codemirror_mode": {
    "name": "ipython",
    "version": 3
   },
   "file_extension": ".py",
   "mimetype": "text/x-python",
   "name": "python",
   "nbconvert_exporter": "python",
   "pygments_lexer": "ipython3",
   "version": "3.12.4"
  }
 },
 "nbformat": 4,
 "nbformat_minor": 5
}
